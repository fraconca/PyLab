{
  "nbformat": 4,
  "nbformat_minor": 0,
  "metadata": {
    "colab": {
      "name": "018 - DATASET COM TABLIB.ipynb",
      "provenance": [],
      "collapsed_sections": [],
      "authorship_tag": "ABX9TyNNfqs2HBM2KyPpeTFQeZjK",
      "include_colab_link": true
    },
    "kernelspec": {
      "name": "python3",
      "display_name": "Python 3"
    }
  },
  "cells": [
    {
      "cell_type": "markdown",
      "metadata": {
        "id": "view-in-github",
        "colab_type": "text"
      },
      "source": [
        "<a href=\"https://colab.research.google.com/github/fraconca/PyLab/blob/master/018_DATASET_COM_TABLIB.ipynb\" target=\"_parent\"><img src=\"https://colab.research.google.com/assets/colab-badge.svg\" alt=\"Open In Colab\"/></a>"
      ]
    },
    {
      "cell_type": "code",
      "metadata": {
        "id": "vFY8Kw-e9IVk",
        "colab_type": "code",
        "outputId": "32bd1e17-4d43-47c5-bcb3-eb5f97911906",
        "colab": {
          "base_uri": "https://localhost:8080/",
          "height": 34
        }
      },
      "source": [
        "!pip install tablib"
      ],
      "execution_count": 0,
      "outputs": [
        {
          "output_type": "stream",
          "text": [
            "Requirement already satisfied: tablib in /usr/local/lib/python3.6/dist-packages (1.1.0)\n"
          ],
          "name": "stdout"
        }
      ]
    },
    {
      "cell_type": "code",
      "metadata": {
        "id": "oI-asFQi9UNN",
        "colab_type": "code",
        "colab": {}
      },
      "source": [
        "import tablib"
      ],
      "execution_count": 0,
      "outputs": []
    },
    {
      "cell_type": "code",
      "metadata": {
        "id": "ris86pWj9YQx",
        "colab_type": "code",
        "outputId": "143fdb51-35e7-47c1-b51e-9c4428c139f0",
        "colab": {
          "base_uri": "https://localhost:8080/",
          "height": 102
        }
      },
      "source": [
        "# Cria cabeçalhos \n",
        "headers = ('Nome', 'Sobrenome', 'Idade')\n",
        "\n",
        "#Cria dados para conjunto\n",
        "data = [\n",
        "    ('Flavio', 'Conca', 36),\n",
        "    ('João', 'Silva', 26),\n",
        "    ('Maria', 'Santos', 23)\n",
        "]\n",
        "\n",
        "# Une cabeçalhos ao Dataset\n",
        "data = tablib.Dataset(*data, headers=headers)\n",
        "\n",
        "print(data)"
      ],
      "execution_count": 81,
      "outputs": [
        {
          "output_type": "stream",
          "text": [
            "Nome  |Sobrenome|Idade\n",
            "------|---------|-----\n",
            "Flavio|Conca    |36   \n",
            "João  |Silva    |26   \n",
            "Maria |Santos   |23   \n"
          ],
          "name": "stdout"
        }
      ]
    },
    {
      "cell_type": "code",
      "metadata": {
        "id": "Rwsk3sua7ruA",
        "colab_type": "code",
        "colab": {
          "base_uri": "https://localhost:8080/",
          "height": 102
        },
        "outputId": "511a388e-33b3-4e99-bf52-ad1fce3f1771"
      },
      "source": [
        "# Inserir nova coluna SEXO\n",
        "data.append_col(['M', 'M', 'F'], header='Sexo')\n",
        "\n",
        "# Imprime Resultado\n",
        "print(data)"
      ],
      "execution_count": 82,
      "outputs": [
        {
          "output_type": "stream",
          "text": [
            "Nome  |Sobrenome|Idade|Sexo\n",
            "------|---------|-----|----\n",
            "Flavio|Conca    |36   |M   \n",
            "João  |Silva    |26   |M   \n",
            "Maria |Santos   |23   |F   \n"
          ],
          "name": "stdout"
        }
      ]
    },
    {
      "cell_type": "code",
      "metadata": {
        "id": "zIJRYfNS-F-s",
        "colab_type": "code",
        "colab": {
          "base_uri": "https://localhost:8080/",
          "height": 34
        },
        "outputId": "fd3858ac-6b41-4780-c288-e42188172391"
      },
      "source": [
        "#Acessar dados apenas da coluna 1\n",
        "data.get_col(3)"
      ],
      "execution_count": 83,
      "outputs": [
        {
          "output_type": "execute_result",
          "data": {
            "text/plain": [
              "['M', 'M', 'F']"
            ]
          },
          "metadata": {
            "tags": []
          },
          "execution_count": 83
        }
      ]
    },
    {
      "cell_type": "code",
      "metadata": {
        "id": "ZfkkFjuE4zLY",
        "colab_type": "code",
        "colab": {
          "base_uri": "https://localhost:8080/",
          "height": 102
        },
        "outputId": "c0fdc9dd-0786-4950-92c8-7b6174e47862"
      },
      "source": [
        "# Deletar coluna com index SEXO\n",
        "del data['Sexo']\n",
        "print(data)"
      ],
      "execution_count": 84,
      "outputs": [
        {
          "output_type": "stream",
          "text": [
            "Nome  |Sobrenome|Idade\n",
            "------|---------|-----\n",
            "Flavio|Conca    |36   \n",
            "João  |Silva    |26   \n",
            "Maria |Santos   |23   \n"
          ],
          "name": "stdout"
        }
      ]
    },
    {
      "cell_type": "code",
      "metadata": {
        "id": "_IhaWpqL9L-N",
        "colab_type": "code",
        "colab": {
          "base_uri": "https://localhost:8080/",
          "height": 85
        },
        "outputId": "62a2e6ee-7ad5-460a-f070-8b1fda2521c9"
      },
      "source": [
        "# Exclui o objeto/elemento da linha zero [0] da array. \n",
        "del data[0:1]\n",
        "print(data)"
      ],
      "execution_count": 85,
      "outputs": [
        {
          "output_type": "stream",
          "text": [
            "Nome |Sobrenome|Idade\n",
            "-----|---------|-----\n",
            "João |Silva    |26   \n",
            "Maria|Santos   |23   \n"
          ],
          "name": "stdout"
        }
      ]
    },
    {
      "cell_type": "code",
      "metadata": {
        "id": "F44ReGWJ56Es",
        "colab_type": "code",
        "colab": {
          "base_uri": "https://localhost:8080/",
          "height": 34
        },
        "outputId": "f26c2836-99ca-499a-9d62-2f4af2371052"
      },
      "source": [
        "data['Nome']"
      ],
      "execution_count": 72,
      "outputs": [
        {
          "output_type": "execute_result",
          "data": {
            "text/plain": [
              "['João', 'Maria']"
            ]
          },
          "metadata": {
            "tags": []
          },
          "execution_count": 72
        }
      ]
    },
    {
      "cell_type": "code",
      "metadata": {
        "id": "WOAFgGh-8X3P",
        "colab_type": "code",
        "colab": {
          "base_uri": "https://localhost:8080/",
          "height": 34
        },
        "outputId": "41272551-70c0-4425-af36-bd1715c0d018"
      },
      "source": [
        "data[0]"
      ],
      "execution_count": 73,
      "outputs": [
        {
          "output_type": "execute_result",
          "data": {
            "text/plain": [
              "('João', 'Silva', 26)"
            ]
          },
          "metadata": {
            "tags": []
          },
          "execution_count": 73
        }
      ]
    },
    {
      "cell_type": "code",
      "metadata": {
        "id": "pGzPQOBT8cZn",
        "colab_type": "code",
        "colab": {
          "base_uri": "https://localhost:8080/",
          "height": 34
        },
        "outputId": "8ea316a9-bcf7-4016-e462-c7d7b7664f0f"
      },
      "source": [
        "data['Idade']"
      ],
      "execution_count": 74,
      "outputs": [
        {
          "output_type": "execute_result",
          "data": {
            "text/plain": [
              "[26, 23]"
            ]
          },
          "metadata": {
            "tags": []
          },
          "execution_count": 74
        }
      ]
    },
    {
      "cell_type": "code",
      "metadata": {
        "id": "94mFXs_D5-BC",
        "colab_type": "code",
        "colab": {
          "base_uri": "https://localhost:8080/",
          "height": 34
        },
        "outputId": "157447cb-bc27-4864-b401-d20161f0b4ca"
      },
      "source": [
        "data[0][0]"
      ],
      "execution_count": 75,
      "outputs": [
        {
          "output_type": "execute_result",
          "data": {
            "text/plain": [
              "'João'"
            ]
          },
          "metadata": {
            "tags": []
          },
          "execution_count": 75
        }
      ]
    },
    {
      "cell_type": "code",
      "metadata": {
        "id": "xFXNOMaM6Ez4",
        "colab_type": "code",
        "colab": {
          "base_uri": "https://localhost:8080/",
          "height": 34
        },
        "outputId": "96493a18-5621-4621-fb72-cf26eb09c3aa"
      },
      "source": [
        "var_nome = data[0][0]\n",
        "print(var_nome)"
      ],
      "execution_count": 43,
      "outputs": [
        {
          "output_type": "stream",
          "text": [
            "Flavio\n"
          ],
          "name": "stdout"
        }
      ]
    }
  ]
}